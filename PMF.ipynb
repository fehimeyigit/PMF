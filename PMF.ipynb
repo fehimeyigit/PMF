{
  "nbformat": 4,
  "nbformat_minor": 0,
  "metadata": {
    "colab": {
      "name": "PMF.ipynb",
      "version": "0.3.2",
      "provenance": [],
      "include_colab_link": true
    },
    "kernelspec": {
      "name": "python3",
      "display_name": "Python 3"
    }
  },
  "cells": [
    {
      "cell_type": "markdown",
      "metadata": {
        "id": "view-in-github",
        "colab_type": "text"
      },
      "source": [
        "<a href=\"https://colab.research.google.com/github/fehimeyigit/PMF/blob/master/PMF.ipynb\" target=\"_parent\"><img src=\"https://colab.research.google.com/assets/colab-badge.svg\" alt=\"Open In Colab\"/></a>"
      ]
    },
    {
      "metadata": {
        "id": "Jx80eXHF5E-x",
        "colab_type": "text"
      },
      "cell_type": "markdown",
      "source": [
        "İçinde 5 Beyaz 6 Siyah top bulunan bir kutudan 3 adet top çekiliyor.\n",
        "\n",
        "a) Siyah top gelme olasılığına ait kesikli olasılık dagılımını bulunuz.\n",
        "\n",
        "b)Çekilen 3 toptan  en fazla 2 sinin siyah gelme olasılığını bulunuz.P(X<=2)"
      ]
    },
    {
      "metadata": {
        "id": "zFI63vWj6lAk",
        "colab_type": "code",
        "colab": {
          "base_uri": "https://localhost:8080/",
          "height": 34
        },
        "outputId": "81168389-b271-4771-ba0b-87de9a225fec"
      },
      "cell_type": "code",
      "source": [
        "#P(X=0)\n",
        "#Çekilen topların hepsinin beyaz olma olasılığı;\n",
        "\n",
        "toplam_top=11\n",
        "beyaz_top=5\n",
        "siyah_top=6\n",
        "\n",
        "\n",
        "P_0=(beyaz_top/toplam_top)*((beyaz_top-1)/(toplam_top-1))*((beyaz_top-2)/(toplam_top-2))\n",
        "\n",
        "P_0\n",
        "\n"
      ],
      "execution_count": 20,
      "outputs": [
        {
          "output_type": "execute_result",
          "data": {
            "text/plain": [
              "0.06060606060606061"
            ]
          },
          "metadata": {
            "tags": []
          },
          "execution_count": 20
        }
      ]
    },
    {
      "metadata": {
        "id": "_fVmy6V7BzpJ",
        "colab_type": "code",
        "colab": {
          "base_uri": "https://localhost:8080/",
          "height": 34
        },
        "outputId": "ba2065c1-120a-46da-f66e-965a790e6f2f"
      },
      "cell_type": "code",
      "source": [
        "\n",
        "#P(X=1)\n",
        "#Çekilen toplardan 1 inin siyah olma olasılığı;\n",
        "\n",
        "#BBS Olma durumu\n",
        "\n",
        "BBS=(beyaz_top/toplam_top)*((beyaz_top-1)/(toplam_top-1))*((siyah_top)/(toplam_top-2))\n",
        "\n",
        "#BSB Olma durumu\n",
        "\n",
        "BSB=(beyaz_top/toplam_top)*((siyah_top)/(toplam_top-1))*((beyaz_top-1)/(toplam_top-2))\n",
        "\n",
        "#SBB Olma durumu\n",
        "\n",
        "SBB=(siyah_top/toplam_top)*((beyaz_top)/(toplam_top-1))*((beyaz_top-1)/(toplam_top-2))\n",
        "\n",
        "\n",
        "P_1=BBS+BSB+SBB\n",
        "\n",
        "P_1"
      ],
      "execution_count": 22,
      "outputs": [
        {
          "output_type": "execute_result",
          "data": {
            "text/plain": [
              "0.36363636363636365"
            ]
          },
          "metadata": {
            "tags": []
          },
          "execution_count": 22
        }
      ]
    },
    {
      "metadata": {
        "id": "SjQltBt-B1jX",
        "colab_type": "code",
        "colab": {
          "base_uri": "https://localhost:8080/",
          "height": 34
        },
        "outputId": "6b2c9580-3778-4473-d3a9-af26444352e3"
      },
      "cell_type": "code",
      "source": [
        "\n",
        "#P(X=2)\n",
        "#Çekilen toplardan 2 sinin siyah olma olasılığı;\n",
        "\n",
        "#BSS Olma durumu\n",
        "\n",
        "BSS=(beyaz_top/toplam_top)*((siyah_top)/(toplam_top-1))*((siyah_top-1)/(toplam_top-2))\n",
        "\n",
        "#SBS Olma durumu\n",
        "\n",
        "SBS=(siyah_top/toplam_top)*((beyaz_top)/(toplam_top-1))*((siyah_top-1)/(toplam_top-2))\n",
        "\n",
        "#SSB Olma durumu\n",
        "\n",
        "SSB=(siyah_top/toplam_top)*((siyah_top-1)/(toplam_top-1))*((beyaz_top)/(toplam_top-2))\n",
        "\n",
        "\n",
        "P_2=BSS+SBS+SSB\n",
        "\n",
        "P_2"
      ],
      "execution_count": 23,
      "outputs": [
        {
          "output_type": "execute_result",
          "data": {
            "text/plain": [
              "0.4545454545454546"
            ]
          },
          "metadata": {
            "tags": []
          },
          "execution_count": 23
        }
      ]
    },
    {
      "metadata": {
        "id": "mWhuwbFPCkNW",
        "colab_type": "code",
        "colab": {
          "base_uri": "https://localhost:8080/",
          "height": 34
        },
        "outputId": "65cc5ef9-26db-4758-f9d9-c4eedb5957c7"
      },
      "cell_type": "code",
      "source": [
        "\n",
        "#P(X=3)\n",
        "#Çekilen toplardan 3 ünün siyah olma olasılığı;\n",
        "\n",
        "#SSS Olma durumu\n",
        "\n",
        "P_3=(siyah_top/toplam_top)*((siyah_top-1)/(toplam_top-1))*((siyah_top-2)/(toplam_top-2))\n",
        "\n",
        "\n",
        "\n",
        "P_3"
      ],
      "execution_count": 24,
      "outputs": [
        {
          "output_type": "execute_result",
          "data": {
            "text/plain": [
              "0.1212121212121212"
            ]
          },
          "metadata": {
            "tags": []
          },
          "execution_count": 24
        }
      ]
    },
    {
      "metadata": {
        "id": "JyNXLknJFU8T",
        "colab_type": "text"
      },
      "cell_type": "markdown",
      "source": [
        "b) P(X<=2) ;"
      ]
    },
    {
      "metadata": {
        "id": "-6RtYs9PBEIE",
        "colab_type": "code",
        "colab": {
          "base_uri": "https://localhost:8080/",
          "height": 34
        },
        "outputId": "dd6aba73-0c71-4290-e660-4a3ea0b52c9f"
      },
      "cell_type": "code",
      "source": [
        "#P(X <= 2)=sonuc\n",
        "\n",
        "#P(X <= 2)= P(X = 0)+P(X = 1)+P(X = 2)\n",
        "\n",
        "\n",
        "sonuc=P_0+P_1+P_2\n",
        "\n",
        "sonuc"
      ],
      "execution_count": 25,
      "outputs": [
        {
          "output_type": "execute_result",
          "data": {
            "text/plain": [
              "0.8787878787878789"
            ]
          },
          "metadata": {
            "tags": []
          },
          "execution_count": 25
        }
      ]
    }
  ]
}